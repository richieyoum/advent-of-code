{
 "cells": [
  {
   "cell_type": "markdown",
   "metadata": {},
   "source": [
    "# Day 1: Trebuchet?!\n",
    "\n",
    "### Part 1.\n",
    "Something is wrong with global snow production, and you've been selected to take a look. The Elves have even given you a map; on it, they've used stars to mark the top fifty locations that are likely to be having problems.\n",
    "\n",
    "You've been doing this long enough to know that to restore snow operations, you need to check all fifty stars by December 25th.\n",
    "\n",
    "Collect stars by solving puzzles. Two puzzles will be made available on each day in the Advent calendar; the second puzzle is unlocked when you complete the first. Each puzzle grants one star. Good luck!\n",
    "\n",
    "You try to ask why they can't just use a weather machine (\"not powerful enough\") and where they're even sending you (\"the sky\") and why your map looks mostly blank (\"you sure ask a lot of questions\") and hang on did you just say the sky (\"of course, where do you think snow comes from\") when you realize that the Elves are already loading you into a trebuchet (\"please hold still, we need to strap you in\").\n",
    "\n",
    "As they're making the final adjustments, they discover that their calibration document (your puzzle input) has been amended by a very young Elf who was apparently just excited to show off her art skills. Consequently, the Elves are having trouble reading the values on the document.\n",
    "\n",
    "The newly-improved calibration document consists of lines of text; each line originally contained a specific calibration value that the Elves now need to recover. On each line, the calibration value can be found by combining the first digit and the last digit (in that order) to form a single two-digit number.\n",
    "\n",
    "For example:\n",
    "\n",
    "```1abc2\n",
    "pqr3stu8vwx\n",
    "a1b2c3d4e5f\n",
    "treb7uchet\n",
    "```\n",
    "\n",
    "In this example, the calibration values of these four lines are 12, 38, 15, and 77. Adding these together produces 142.\n",
    "\n",
    "Consider your entire calibration document. What is the sum of all of the calibration values?"
   ]
  },
  {
   "cell_type": "code",
   "execution_count": 1,
   "metadata": {},
   "outputs": [],
   "source": [
    "# sample set from the question for testing\n",
    "sample_set = ['1abc2', 'pqr3stu8vwx', 'a1b2c3d4e5f', 'treb7uchet']\n",
    "expected_digits = [12, 38, 15, 77]\n",
    "\n",
    "# load input\n",
    "with open('inputs/day1_input.txt', 'r') as f:\n",
    "    test_set = f.read().splitlines()"
   ]
  },
  {
   "cell_type": "code",
   "execution_count": 2,
   "metadata": {},
   "outputs": [],
   "source": [
    "from typing import List\n",
    "\n",
    "def extract_calibration_values(data: List[str]) -> List[int]:\n",
    "    \"\"\"extracts digits from a list of data\n",
    "    \n",
    "    params:\n",
    "        data (List[str]): list of calibration string values\n",
    "    returns:\n",
    "        list of extracted ints from each string\n",
    "    \"\"\"\n",
    "    digits = []\n",
    "    for d in data:\n",
    "        l_digit, r_digit = None, None\n",
    "\n",
    "        for i in range(len(d)):\n",
    "            if d[i].isdigit():\n",
    "                l_digit = d[i]\n",
    "                break\n",
    "        for i in range(len(d)-1, -1, -1):\n",
    "            if d[i].isdigit():\n",
    "                r_digit = d[i]\n",
    "                break\n",
    "        digits.append(int(l_digit+r_digit))\n",
    "    return digits"
   ]
  },
  {
   "cell_type": "code",
   "execution_count": 3,
   "metadata": {},
   "outputs": [],
   "source": [
    "assert extract_calibration_values(sample_set) == expected_digits"
   ]
  },
  {
   "cell_type": "code",
   "execution_count": 4,
   "metadata": {},
   "outputs": [
    {
     "data": {
      "text/plain": [
       "54597"
      ]
     },
     "execution_count": 4,
     "metadata": {},
     "output_type": "execute_result"
    }
   ],
   "source": [
    "sum(extract_calibration_values(test_set))"
   ]
  },
  {
   "cell_type": "markdown",
   "metadata": {},
   "source": [
    "### Part Two\n",
    "Your calculation isn't quite right. It looks like some of the digits are actually spelled out with letters: one, two, three, four, five, six, seven, eight, and nine also count as valid \"digits\".\n",
    "\n",
    "Equipped with this new information, you now need to find the real first and last digit on each line. For example:\n",
    "```\n",
    "two1nine\n",
    "eightwothree\n",
    "abcone2threexyz\n",
    "xtwone3four\n",
    "4nineeightseven2\n",
    "zoneight234\n",
    "7pqrstsixteen\n",
    "```\n",
    "In this example, the calibration values are 29, 83, 13, 24, 42, 14, and 76. Adding these together produces 281.\n",
    "\n",
    "What is the sum of all of the calibration values?"
   ]
  },
  {
   "cell_type": "code",
   "execution_count": 5,
   "metadata": {},
   "outputs": [],
   "source": [
    "# sample set from the question for testing\n",
    "sample_set = ['two1nine', 'eightwothree', 'abcone2threexyz', 'xtwone3four', '4nineeightseven2', 'zoneight234', '7pqrstsixteen']\n",
    "expected_digits = [29, 83, 13, 24, 42, 14, 76]\n",
    "\n",
    "# load input\n",
    "with open('inputs/day1_input.txt', 'r') as f:\n",
    "    test_set = f.read().splitlines()"
   ]
  },
  {
   "cell_type": "code",
   "execution_count": 6,
   "metadata": {},
   "outputs": [],
   "source": [
    "from typing import List\n",
    "import re\n",
    "\n",
    "\n",
    "def substr_to_digit(text: str, digit_dict: dict) -> str:\n",
    "    \"\"\"replace substrings matching 'one' to 'nine' to corresponding integer using regex\n",
    "\n",
    "    params:\n",
    "        text (str): string that may or may not contain the substring pattern\n",
    "        digit_dict (dict): mapping of substring to integer\n",
    "    returns:\n",
    "        new string with substring substituted to the digits\n",
    "    \"\"\"\n",
    "    pattern = re.compile(r'(?=(one|two|three|four|five|six|seven|eight|nine))')\n",
    "    occurrences = [(match.start(1), match.end(1), match.group(1)) for match in pattern.finditer(text)]\n",
    "    # Create a new string with replacements\n",
    "    new_text = ''\n",
    "    last_end = 0\n",
    "    for start, end, replacement in occurrences:\n",
    "        new_text += text[last_end:start] + digit_dict[replacement]\n",
    "        last_end = end\n",
    "    new_text += text[last_end:]\n",
    "    return new_text\n",
    "\n",
    "\n",
    "def extract_calibration_values(data: List) -> List[int]:\n",
    "    \"\"\"modified version of previous digit extraction function with substring replacement\n",
    "\n",
    "    params:\n",
    "        data (List[str]): list of calibration string values\n",
    "    returns:\n",
    "        list of extracted ints from each string\n",
    "    \"\"\"\n",
    "    \n",
    "    digit_dict = {\n",
    "        'one': '1',\n",
    "        'two': '2',\n",
    "        'three': '3',\n",
    "        'four': '4',\n",
    "        'five': '5',\n",
    "        'six': '6',\n",
    "        'seven': '7',\n",
    "        'eight': '8',\n",
    "        'nine': '9'\n",
    "    }\n",
    "\n",
    "    digits = []\n",
    "    for d in data:\n",
    "        l_digit, r_digit = None, None\n",
    "        d = substr_to_digit(d, digit_dict)\n",
    "        for i in range(len(d)):\n",
    "            if d[i].isdigit():\n",
    "                l_digit = d[i]\n",
    "                break\n",
    "        for i in range(len(d)-1, -1, -1):\n",
    "            if d[i].isdigit():\n",
    "                r_digit = d[i]\n",
    "                break\n",
    "        digits.append(int(l_digit+r_digit))\n",
    "    return digits"
   ]
  },
  {
   "cell_type": "code",
   "execution_count": 7,
   "metadata": {},
   "outputs": [],
   "source": [
    "assert extract_calibration_values(sample_set) == expected_digits\n",
    "assert sum(extract_calibration_values(sample_set)) == 281"
   ]
  },
  {
   "cell_type": "code",
   "execution_count": 8,
   "metadata": {},
   "outputs": [
    {
     "data": {
      "text/plain": [
       "54504"
      ]
     },
     "execution_count": 8,
     "metadata": {},
     "output_type": "execute_result"
    }
   ],
   "source": [
    "sum(extract_calibration_values(test_set))"
   ]
  }
 ],
 "metadata": {
  "kernelspec": {
   "display_name": "dev",
   "language": "python",
   "name": "python3"
  },
  "language_info": {
   "codemirror_mode": {
    "name": "ipython",
    "version": 3
   },
   "file_extension": ".py",
   "mimetype": "text/x-python",
   "name": "python",
   "nbconvert_exporter": "python",
   "pygments_lexer": "ipython3",
   "version": "3.10.13"
  }
 },
 "nbformat": 4,
 "nbformat_minor": 2
}
